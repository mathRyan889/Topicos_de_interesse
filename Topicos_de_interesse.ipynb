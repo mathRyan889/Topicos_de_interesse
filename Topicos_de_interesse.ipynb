{
  "nbformat": 4,
  "nbformat_minor": 0,
  "metadata": {
    "colab": {
      "provenance": [],
      "authorship_tag": "ABX9TyOnhUTen0qeJ6iUrLCQZdkj",
      "include_colab_link": true
    },
    "kernelspec": {
      "name": "python3",
      "display_name": "Python 3"
    },
    "language_info": {
      "name": "python"
    }
  },
  "cells": [
    {
      "cell_type": "markdown",
      "metadata": {
        "id": "view-in-github",
        "colab_type": "text"
      },
      "source": [
        "<a href=\"https://colab.research.google.com/github/mathRyan889/Topicos_de_interesse/blob/main/Topicos_de_interesse.ipynb\" target=\"_parent\"><img src=\"https://colab.research.google.com/assets/colab-badge.svg\" alt=\"Open In Colab\"/></a>"
      ]
    },
    {
      "cell_type": "markdown",
      "source": [
        "Vamos analisar os topicos que mais interessam aos usuarios, já usamos esses dados em outros projetos.\n",
        "\n"
      ],
      "metadata": {
        "id": "X8NqF34w_S_t"
      }
    },
    {
      "cell_type": "code",
      "execution_count": 1,
      "metadata": {
        "id": "Jx-i8Gnh9JEj"
      },
      "outputs": [],
      "source": [
        "\n",
        "interests = [\n",
        "    (0, \"Hadoop\"), (0, \"Big Data\"), (0, \"HBase\"), (0, \"Java\"),\n",
        "    (0, \"Spark\"), (0, \"Storm\"), (0, \"Cassandra\"),\n",
        "    (1, \"NoSQL\"), (1, \"MongoDB\"), (1, \"Cassandra\"), (1, \"HBase\"),\n",
        "    (1, \"Postgres\"), (2, \"Python\"), (2, \"scikit-learn\"), (2, \"scipy\"),\n",
        "    (2, \"numpy\"), (2, \"statsmodels\"), (2, \"pandas\"), (3, \"R\"), (3, \"Python\"),\n",
        "    (3, \"statistics\"), (3, \"regression\"), (3, \"probability\"), (4, \"machine learning\"),\n",
        "    (4, \"regression\"), (4, \"decision trees\"), (4, \"libsvm\"), (5, \"Python\"),\n",
        "    (5, \"R\"), (5, \"Java\"), (5, \"C++\"), (5, \"Haskell\"), (5, \"programming languages\"), (6, \"statistics\"),\n",
        "    (6, \"probability\"), (6, \"mathematics\"), (6, \"theory\"),\n",
        "    (7, \"machine learning\"), (7, \"scikit-learn\"), (7, \"Mahout\"),(7, \"neural networks\"),\n",
        "    (8, \"neural networks\"), (8, \"deep learning\"), (8, \"Big Data\"), (8, \"artificial intelligence\"),(9, \"Hadoop\"),\n",
        "    (9, \"Java\"), (9, \"MapReduce\"), (9, \"Big Data\")\n",
        "]"
      ]
    },
    {
      "cell_type": "markdown",
      "source": [
        "Um modo simples de encontrar os interesses mais populares é contar as palavras:\n",
        "1 - Escreva os interesses em letras minúsculas.\n",
        "2 - Divida-os em palavras\n",
        "3- Conte os resultados\n"
      ],
      "metadata": {
        "id": "N1udNFSqALbe"
      }
    },
    {
      "cell_type": "code",
      "source": [
        "from collections import Counter\n",
        "words_and_counts = Counter(word\n",
        "                           for user, interest in interests\n",
        "                           for word in interest.lower().split())"
      ],
      "metadata": {
        "id": "5YoMqkKt9RS5"
      },
      "execution_count": 11,
      "outputs": []
    },
    {
      "cell_type": "code",
      "source": [
        "words_and_counts"
      ],
      "metadata": {
        "colab": {
          "base_uri": "https://localhost:8080/"
        },
        "id": "1xRZDF7N9P11",
        "outputId": "98b12126-59b9-420c-87c0-426ce8387f68"
      },
      "execution_count": 4,
      "outputs": [
        {
          "output_type": "execute_result",
          "data": {
            "text/plain": [
              "Counter({'hadoop': 2,\n",
              "         'big': 3,\n",
              "         'data': 3,\n",
              "         'hbase': 2,\n",
              "         'java': 3,\n",
              "         'spark': 1,\n",
              "         'storm': 1,\n",
              "         'cassandra': 2,\n",
              "         'nosql': 1,\n",
              "         'mongodb': 1,\n",
              "         'postgres': 1,\n",
              "         'python': 3,\n",
              "         'scikit-learn': 2,\n",
              "         'scipy': 1,\n",
              "         'numpy': 1,\n",
              "         'statsmodels': 1,\n",
              "         'pandas': 1,\n",
              "         'r': 2,\n",
              "         'statistics': 2,\n",
              "         'regression': 2,\n",
              "         'probability': 2,\n",
              "         'machine': 2,\n",
              "         'learning': 3,\n",
              "         'decision': 1,\n",
              "         'trees': 1,\n",
              "         'libsvm': 1,\n",
              "         'c++': 1,\n",
              "         'haskell': 1,\n",
              "         'programming': 1,\n",
              "         'languages': 1,\n",
              "         'mathematics': 1,\n",
              "         'theory': 1,\n",
              "         'mahout': 1,\n",
              "         'neural': 2,\n",
              "         'networks': 2,\n",
              "         'deep': 1,\n",
              "         'artificial': 1,\n",
              "         'intelligence': 1,\n",
              "         'mapreduce': 1})"
            ]
          },
          "metadata": {},
          "execution_count": 4
        }
      ]
    },
    {
      "cell_type": "markdown",
      "source": [
        "Essa operação facilita a listagem de palavras que ocorrem mais de uma vez"
      ],
      "metadata": {
        "id": "xNhVJd3XAv58"
      }
    },
    {
      "cell_type": "code",
      "source": [
        "for word, count in words_and_counts.most_common():\n",
        "  if count > 1:\n",
        "    print(word, count)"
      ],
      "metadata": {
        "colab": {
          "base_uri": "https://localhost:8080/"
        },
        "id": "A0vLUg5H9PyS",
        "outputId": "fd75f979-f522-48fd-fd00-e47c775fde4a"
      },
      "execution_count": 10,
      "outputs": [
        {
          "output_type": "stream",
          "name": "stdout",
          "text": [
            "big 3\n",
            "data 3\n",
            "java 3\n",
            "python 3\n",
            "learning 3\n",
            "hadoop 2\n",
            "hbase 2\n",
            "cassandra 2\n",
            "scikit-learn 2\n",
            "r 2\n",
            "statistics 2\n",
            "regression 2\n",
            "probability 2\n",
            "machine 2\n",
            "neural 2\n",
            "networks 2\n"
          ]
        }
      ]
    }
  ]
}